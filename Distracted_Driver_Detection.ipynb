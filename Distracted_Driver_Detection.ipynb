{
  "cells": [
    {
      "cell_type": "markdown",
      "metadata": {
        "id": "view-in-github",
        "colab_type": "text"
      },
      "source": [
        "<a href=\"https://colab.research.google.com/github/Nathan-Benz/Distraction-Recognition-CNN/blob/main/Distracted_Driver_Detection.ipynb\" target=\"_parent\"><img src=\"https://colab.research.google.com/assets/colab-badge.svg\" alt=\"Open In Colab\"/></a>"
      ]
    },
    {
      "cell_type": "markdown",
      "metadata": {
        "id": "uN34YE4Xbugj"
      },
      "source": [
        "# Distracted Driver Recognition\n",
        "The data set for this project is split into two parts: `labels`, which includes all of the classes for our images and `image_data`, which has a 2-D representation of our images. The possible classes an image can take are:\n",
        "* Attentive\n",
        "* DrinkingCoffee\n",
        "* UsingMirror\n",
        "* UsingRadio\n",
        "\n"
      ]
    },
    {
      "cell_type": "code",
      "execution_count": 1,
      "metadata": {
        "id": "88KYp9nmbSS7",
        "colab": {
          "base_uri": "https://localhost:8080/"
        },
        "outputId": "1756919c-9538-4f54-aebf-804aef108f71"
      },
      "outputs": [
        {
          "output_type": "stream",
          "name": "stdout",
          "text": [
            "Looking in indexes: https://pypi.org/simple, https://us-python.pkg.dev/colab-wheels/public/simple/\n",
            "Collecting pytorch-ignite\n",
            "  Downloading pytorch_ignite-0.4.9-py3-none-any.whl (259 kB)\n",
            "\u001b[K     |████████████████████████████████| 259 kB 6.4 MB/s \n",
            "\u001b[?25hRequirement already satisfied: packaging in /usr/local/lib/python3.7/dist-packages (from pytorch-ignite) (21.3)\n",
            "Requirement already satisfied: torch<2,>=1.3 in /usr/local/lib/python3.7/dist-packages (from pytorch-ignite) (1.12.0+cu113)\n",
            "Requirement already satisfied: typing-extensions in /usr/local/lib/python3.7/dist-packages (from torch<2,>=1.3->pytorch-ignite) (4.1.1)\n",
            "Requirement already satisfied: pyparsing!=3.0.5,>=2.0.2 in /usr/local/lib/python3.7/dist-packages (from packaging->pytorch-ignite) (3.0.9)\n",
            "Installing collected packages: pytorch-ignite\n",
            "Successfully installed pytorch-ignite-0.4.9\n"
          ]
        }
      ],
      "source": [
        "#@title Starter libraries (double click to take a look) { display-mode: \"form\" }\n",
        "# useful for opening files\n",
        "import gdown\n",
        "import zipfile\n",
        "\n",
        "import os # accessing parts of your operating system\n",
        "import re\n",
        "import sys\n",
        "\n",
        "# data visualization + manipulation -- we've seen these many times\n",
        "import numpy as np\n",
        "import pandas as pd\n",
        "\n",
        "# plotting libraries\n",
        "import seaborn as sns\n",
        "import matplotlib.pyplot as plt\n",
        "\n",
        "# regression models\n",
        "from sklearn.linear_model import LinearRegression\n",
        "from sklearn.linear_model import HuberRegressor\n",
        "from sklearn.linear_model import RANSACRegressor\n",
        "from sklearn.linear_model import TheilSenRegressor\n",
        "from sklearn.gaussian_process import GaussianProcessRegressor\n",
        "from sklearn import linear_model\n",
        "\n",
        "#Test code\n",
        "from sklearn.datasets import fetch_openml\n",
        "#Test code\n",
        "\n",
        "from sklearn.preprocessing import PolynomialFeatures # for polynomial model\n",
        "from sklearn.pipeline import Pipeline\n",
        "\n",
        "# classification models\n",
        "from sklearn.linear_model import LogisticRegression\n",
        "from sklearn.neural_network import MLPClassifier\n",
        "from sklearn.neighbors import KNeighborsClassifier\n",
        "from sklearn.svm import SVC\n",
        "from sklearn.gaussian_process import GaussianProcessClassifier\n",
        "from sklearn.gaussian_process.kernels import RBF\n",
        "from sklearn.tree import DecisionTreeClassifier\n",
        "from sklearn.ensemble import RandomForestClassifier, AdaBoostClassifier\n",
        "from sklearn.naive_bayes import GaussianNB\n",
        "\n",
        "# more sklearn model making\n",
        "from sklearn.metrics import accuracy_score, precision_score, recall_score, confusion_matrix, ConfusionMatrixDisplay, plot_confusion_matrix\n",
        "from sklearn import model_selection\n",
        "from sklearn.model_selection import train_test_split\n",
        "from sklearn.preprocessing import StandardScaler\n",
        "from sklearn.model_selection import cross_val_score\n",
        "from sklearn.utils.multiclass import unique_labels\n",
        "\n",
        "from collections import Counter\n",
        "\n",
        "# NLP\n",
        "import string\n",
        "import nltk\n",
        "nltk.download('punkt', quiet=True)\n",
        "nltk.download('stopwords' ,quiet=True)\n",
        "from nltk.corpus import stopwords\n",
        "from nltk.stem import WordNetLemmatizer, PorterStemmer\n",
        "from nltk.corpus import stopwords\n",
        "from nltk.tokenize import word_tokenize, TweetTokenizer\n",
        "from spacy.lang.en.stop_words import STOP_WORDS\n",
        "from sklearn.feature_extraction.text import CountVectorizer, TfidfVectorizer\n",
        "import spacy\n",
        "import wordcloud\n",
        "import tweepy\n",
        "\n",
        "# NN models\n",
        "import tensorflow as tf\n",
        "import tensorflow_datasets as tfds\n",
        "\n",
        "import keras\n",
        "from tensorflow.keras import layers , activations , models , preprocessing, utils\n",
        "\n",
        "# sequence data\n",
        "from keras import Input, Model\n",
        "from keras.layers import Embedding, LSTM, Dense\n",
        "from tensorflow.keras.optimizers import RMSprop\n",
        "from keras.preprocessing.sequence import pad_sequences\n",
        "\n",
        "# text\n",
        "from tensorflow.keras.utils import to_categorical\n",
        "from keras_preprocessing.text import Tokenizer\n",
        "\n",
        "# NN and CNN\n",
        "from keras.models import Sequential\n",
        "from keras.layers import Dense, Conv2D, Dropout\n",
        "from keras.layers import Activation, MaxPooling2D, Dropout, Flatten, Reshape\n",
        "from keras.wrappers.scikit_learn import KerasClassifier\n",
        "import keras.optimizers as optimizers\n",
        "from keras.activations import softmax\n",
        "from keras.callbacks import ModelCheckpoint\n",
        "\n",
        "from tensorflow.keras.applications import VGG16, VGG19, ResNet50, DenseNet121\n",
        "\n",
        "import random\n",
        "\n",
        "import warnings\n",
        "warnings.filterwarnings('ignore')\n",
        "\n",
        "#Model Metrics\n",
        "!pip install pytorch-ignite\n",
        "from ignite.engine import Engine\n",
        "from ignite.metrics import Accuracy\n",
        "import torch\n",
        "\n",
        "def plot_acc(history, ax = None, xlabel = 'Epoch #'):\n",
        "    history = history.history\n",
        "    history.update({'epoch':list(range(len(history['val_accuracy'])))})\n",
        "    history = pd.DataFrame.from_dict(history)\n",
        "\n",
        "    best_epoch = history.sort_values(by = 'val_accuracy', ascending = False).iloc[0]['epoch']\n",
        "\n",
        "    if not ax:\n",
        "      f, ax = plt.subplots(1,1)\n",
        "    sns.lineplot(x = 'epoch', y = 'val_accuracy', data = history, label = 'Validation', ax = ax)\n",
        "    sns.lineplot(x = 'epoch', y = 'accuracy', data = history, label = 'Training', ax = ax)\n",
        "    ax.axhline(0.5, linestyle = '--',color='red', label = 'Chance')\n",
        "    ax.axvline(x = best_epoch, linestyle = '--', color = 'green', label = 'Best Epoch')  \n",
        "    ax.legend(loc = 7)    \n",
        "    ax.set_ylim([0.4, 1])\n",
        "\n",
        "    ax.set_xlabel(xlabel)\n",
        "    ax.set_ylabel('Accuracy (Fraction)')\n",
        "    \n",
        "    plt.show()\n",
        "\n",
        "def categorical_to_numpy(labels_in):\n",
        "  labels = []\n",
        "  for label in labels_in:\n",
        "    if label == 'dog':\n",
        "      labels.append(np.array([1, 0]))\n",
        "    else:\n",
        "      labels.append(np.array([0, 1]))\n",
        "  return np.array(labels)"
      ]
    },
    {
      "cell_type": "code",
      "execution_count": 2,
      "metadata": {
        "id": "UMAvqhSrXsjo",
        "colab": {
          "base_uri": "https://localhost:8080/"
        },
        "outputId": "e3ce22f0-cd48-457a-d063-a5fe3cec5dba"
      },
      "outputs": [
        {
          "output_type": "stream",
          "name": "stdout",
          "text": [
            "metadata.csv        100%[===================>] 200.33K  --.-KB/s    in 0.003s  \n",
            "image_data.npy      100%[===================>] 423.61M   138MB/s    in 3.1s    \n",
            "[[0.12156864 0.18431373 0.17254902 ... 0.0627451  0.08627451 0.04705883]\n",
            " [0.13725491 0.23137257 0.18039216 ... 0.09411766 0.1137255  0.13725491]\n",
            " [0.16470589 0.19215688 0.21568629 ... 0.00784314 0.0627451  0.07450981]\n",
            " ...\n",
            " [0.11764707 0.16862746 0.12941177 ... 0.04705883 0.07843138 0.08627451]\n",
            " [0.1137255  0.16078432 0.1137255  ... 0.07058824 0.0509804  0.03921569]\n",
            " [0.08235294 0.08235294 0.0509804  ... 0.02745098 0.02745098 0.01960784]]\n"
          ]
        }
      ],
      "source": [
        "#@title Load your dataset { display-mode: \"form\" }\n",
        "import numpy as np\n",
        "import pandas as pd\n",
        "import matplotlib.pyplot as plt\n",
        "\n",
        "\n",
        "!wget -q --show-progress 'https://storage.googleapis.com/inspirit-ai-data-bucket-1/Data/AI%20Scholars/Sessions%206%20-%2010%20(Projects)/Project%20-%20Driver%20Distraction%20Detection/metadata.csv'\n",
        "!wget -q --show-progress 'https://storage.googleapis.com/inspirit-ai-data-bucket-1/Data/AI%20Scholars/Sessions%206%20-%2010%20(Projects)/Project%20-%20Driver%20Distraction%20Detection/image_data.npy'\n",
        "\n",
        "### pre-loading all data of interest\n",
        "all_image_data = np.load('image_data.npy')\n",
        "image_data = all_image_data.reshape((9037, 64,64,3))\n",
        "metadata = pd.read_csv('metadata.csv')\n",
        "labels = metadata['class']\n",
        "\n",
        "print(all_image_data)"
      ]
    },
    {
      "cell_type": "markdown",
      "source": [
        "Prints an image's numpy array"
      ],
      "metadata": {
        "id": "ao3j2uhQ3fNN"
      }
    },
    {
      "cell_type": "code",
      "source": [
        "image_data"
      ],
      "metadata": {
        "id": "zTm9gvu53i0d"
      },
      "execution_count": null,
      "outputs": []
    },
    {
      "cell_type": "markdown",
      "source": [
        "Prints the class of the image"
      ],
      "metadata": {
        "id": "tnySQNUAmPb4"
      }
    },
    {
      "cell_type": "code",
      "source": [
        "print(metadata)"
      ],
      "metadata": {
        "id": "eKdTzuSXMb7o"
      },
      "execution_count": null,
      "outputs": []
    },
    {
      "cell_type": "markdown",
      "source": [
        "Selects a random image and shows image with label"
      ],
      "metadata": {
        "id": "LrhO3PTD3ptW"
      }
    },
    {
      "cell_type": "code",
      "source": [
        "#Generate random number for image in range\n",
        "num = random.randrange(0, 9037)\n",
        "\n",
        "#Shows image and label\n",
        "print(\"\\nImage number:\", num)\n",
        "plt.imshow(image_data[num], cmap='gray')\n",
        "print(\"Class:\", labels[num])"
      ],
      "metadata": {
        "id": "TUXHHMzE3rk-",
        "colab": {
          "base_uri": "https://localhost:8080/",
          "height": 320
        },
        "outputId": "a90ed244-9973-49dd-b670-79a0cd640392"
      },
      "execution_count": 3,
      "outputs": [
        {
          "output_type": "stream",
          "name": "stdout",
          "text": [
            "\n",
            "Image number: 4548\n",
            "Class: UsingRadio\n"
          ]
        },
        {
          "output_type": "display_data",
          "data": {
            "text/plain": [
              "<Figure size 432x288 with 1 Axes>"
            ],
            "image/png": "[encoded data removed]"
          },
          "metadata": {
            "needs_background": "light"
          }
        }
      ]
    },
    {
      "cell_type": "markdown",
      "source": [
        "Logistic Regression Starting Baseline"
      ],
      "metadata": {
        "id": "rsohn6F0mobZ"
      }
    },
    {
      "cell_type": "code",
      "source": [
        "LRx = all_image_data\n",
        "LRy = labels\n",
        "\n",
        "#Split Model\n",
        "LRx_train, LRx_test, LRy_train, LRy_test = train_test_split(LRx, LRy, test_size=0.2, random_state=9)\n",
        "#Make Model, use 'saga' to make our model load faster\n",
        "model = LogisticRegression(penalty='none',tol=0.1, solver='saga', multi_class='multinomial')\n",
        "#Train Model\n",
        "model.fit(LRx_train, LRy_train)\n",
        "#Predict\n",
        "LRy_pred = model.predict(LRx_test)\n",
        "#Test Score\n",
        "print(\"Logistic Regression Accuracy:\")\n",
        "print(accuracy_score(LRy_test, LRy_pred))"
      ],
      "metadata": {
        "colab": {
          "base_uri": "https://localhost:8080/"
        },
        "id": "jfZlM3QDmv2t",
        "outputId": "d637db68-b8ba-4fec-8414-1a6202bac261"
      },
      "execution_count": 48,
      "outputs": [
        {
          "output_type": "stream",
          "name": "stdout",
          "text": [
            "Logistic Regression Accuracy:\n",
            "0.9717920353982301\n"
          ]
        }
      ]
    },
    {
      "cell_type": "markdown",
      "source": [
        "Logistical Regresion Confusion Matrix"
      ],
      "metadata": {
        "id": "yiNGDxQXqm9m"
      }
    },
    {
      "cell_type": "code",
      "source": [
        "cm = confusion_matrix(LRy_test, LRy_pred, labels=[\"Attentive\", \"DrinkingCoffee\", \"UsingMirror\", \"UsingRadio\"])\n",
        "\n",
        "plot_confusion_matrix(model, LRx_test, LRy_test, cmap=\"Blues\",labels=[\"Attentive\", \"DrinkingCoffee\", \"UsingMirror\", \"UsingRadio\"], xticks_rotation=45)\n",
        "plt.show()"
      ],
      "metadata": {
        "colab": {
          "base_uri": "https://localhost:8080/",
          "height": 332
        },
        "id": "8dRsDwftqq5G",
        "outputId": "8529200e-7b1f-4808-87c7-acabe0c96bde"
      },
      "execution_count": 9,
      "outputs": [
        {
          "output_type": "display_data",
          "data": {
            "text/plain": [
              "<Figure size 432x288 with 2 Axes>"
            ],
            "image/png": "[encoded data removed]"
          },
          "metadata": {
            "needs_background": "light"
          }
        }
      ]
    },
    {
      "cell_type": "markdown",
      "source": [
        "Reshaping Data"
      ],
      "metadata": {
        "id": "VAS73BPMvzp1"
      }
    },
    {
      "cell_type": "code",
      "source": [
        "x = image_data\n",
        "\n",
        "#Load categories into Y\n",
        "y = pd.get_dummies(metadata['class'])\n",
        "#Turn categories into an array\n",
        "y = y.to_numpy()\n",
        "\n",
        "x_train, x_test, y_train, y_test = train_test_split(x, y, test_size=0.2, random_state=9)\n",
        "\n",
        "print(\"x train shape:\", x_train.shape)\n",
        "print(\"y train shape:\", y_train.shape)\n",
        "print(\"x test shape:\", x_test.shape)\n",
        "print(\"y test shape:\", y_test.shape)"
      ],
      "metadata": {
        "colab": {
          "base_uri": "https://localhost:8080/"
        },
        "id": "BPoy_gmdv4ox",
        "outputId": "55d5f33e-f9ff-4891-bac2-3a8ee2f33a6c"
      },
      "execution_count": 57,
      "outputs": [
        {
          "output_type": "stream",
          "name": "stdout",
          "text": [
            "(9037, 4)\n",
            "x train shape: (7229, 64, 64, 3)\n",
            "y train shape: (7229, 4)\n",
            "x test shape: (1808, 64, 64, 3)\n",
            "y test shape: (1808, 4)\n"
          ]
        }
      ]
    },
    {
      "cell_type": "markdown",
      "source": [
        "CNN Model"
      ],
      "metadata": {
        "id": "EXTNvfinB3_L"
      }
    },
    {
      "cell_type": "code",
      "source": [
        "#Keras Model\n",
        "cnn_model = Sequential()\n",
        "\n",
        "#Change up values, most definatly inpute_shape\n",
        "cnn_model.add(Conv2D(filters = 32, kernel_size = (5,5),padding = 'Same', activation ='relu', input_shape = (64, 64, 3))) # layer 1\n",
        "cnn_model.add(Conv2D(filters = 32, kernel_size = (5,5),padding = 'Same', activation ='relu')) # layer 2\n",
        "cnn_model.add(MaxPooling2D(pool_size=(2,2))) # layer 3\n",
        "\n",
        "#Dropout\n",
        "cnn_model.add(Dropout(.25))\n",
        "\n",
        "cnn_model.add(Conv2D(filters = 32, kernel_size = (3,3),padding = 'Same', activation ='relu')) # layer 4\n",
        "cnn_model.add(Conv2D(filters = 64, kernel_size = (3,3),padding = 'Same', activation ='relu')) # layer 5\n",
        "cnn_model.add(MaxPooling2D(pool_size=(2,2), strides=(2,2))) # layer 6\n",
        "\n",
        "cnn_model.add(Flatten()) # layer 7\n",
        "cnn_model.add(Dense(256, activation = \"relu\")) # layer 8\n",
        "cnn_model.add(Dense(4, activation = \"softmax\")) # layer 9\n",
        "\n",
        "# Summarizes the model\n",
        "cnn_model.summary()"
      ],
      "metadata": {
        "id": "f0dW-P9pB6bB",
        "colab": {
          "base_uri": "https://localhost:8080/"
        },
        "outputId": "dc9ee521-ce9e-49b7-e2c9-42e66cdef86f"
      },
      "execution_count": 11,
      "outputs": [
        {
          "output_type": "stream",
          "name": "stdout",
          "text": [
            "Model: \"sequential\"\n",
            "_________________________________________________________________\n",
            " Layer (type)                Output Shape              Param #   \n",
            "=================================================================\n",
            " conv2d (Conv2D)             (None, 64, 64, 32)        2432      \n",
            "                                                                 \n",
            " conv2d_1 (Conv2D)           (None, 64, 64, 32)        25632     \n",
            "                                                                 \n",
            " max_pooling2d (MaxPooling2D  (None, 32, 32, 32)       0         \n",
            " )                                                               \n",
            "                                                                 \n",
            " dropout (Dropout)           (None, 32, 32, 32)        0         \n",
            "                                                                 \n",
            " conv2d_2 (Conv2D)           (None, 32, 32, 32)        9248      \n",
            "                                                                 \n",
            " conv2d_3 (Conv2D)           (None, 32, 32, 64)        18496     \n",
            "                                                                 \n",
            " max_pooling2d_1 (MaxPooling  (None, 16, 16, 64)       0         \n",
            " 2D)                                                             \n",
            "                                                                 \n",
            " flatten (Flatten)           (None, 16384)             0         \n",
            "                                                                 \n",
            " dense (Dense)               (None, 256)               4194560   \n",
            "                                                                 \n",
            " dense_1 (Dense)             (None, 4)                 1028      \n",
            "                                                                 \n",
            "=================================================================\n",
            "Total params: 4,251,396\n",
            "Trainable params: 4,251,396\n",
            "Non-trainable params: 0\n",
            "_________________________________________________________________\n"
          ]
        }
      ]
    },
    {
      "cell_type": "markdown",
      "source": [
        "CNN compilation and plot"
      ],
      "metadata": {
        "id": "hujCwNMf5Bnp"
      }
    },
    {
      "cell_type": "code",
      "source": [
        "# Compiles the model\n",
        "cnn_model.compile(loss='categorical_crossentropy', optimizer='adam', metrics=['accuracy'])\n",
        "hist = cnn_model.fit(x_train, y_train, epochs=25, validation_data=(x_test, y_test))\n",
        "\n",
        "# Plots it\n",
        "plot_acc(hist)"
      ],
      "metadata": {
        "id": "vRWrfYdZ5JE1",
        "colab": {
          "base_uri": "https://localhost:8080/",
          "height": 1000
        },
        "outputId": "06010851-54bd-415a-bcc1-62bd1e9b8ee7"
      },
      "execution_count": 28,
      "outputs": [
        {
          "output_type": "stream",
          "name": "stdout",
          "text": [
            "Epoch 1/25\n",
            "226/226 [==============================] - 232s 1s/step - loss: 0.0135 - accuracy: 0.9946 - val_loss: 0.0176 - val_accuracy: 0.9956\n",
            "Epoch 2/25\n",
            "226/226 [==============================] - 231s 1s/step - loss: 0.0081 - accuracy: 0.9976 - val_loss: 0.0202 - val_accuracy: 0.9945\n",
            "Epoch 3/25\n",
            "226/226 [==============================] - 231s 1s/step - loss: 0.0085 - accuracy: 0.9972 - val_loss: 0.0176 - val_accuracy: 0.9967\n",
            "Epoch 4/25\n",
            "226/226 [==============================] - 233s 1s/step - loss: 0.0077 - accuracy: 0.9970 - val_loss: 0.0322 - val_accuracy: 0.9939\n",
            "Epoch 5/25\n",
            "226/226 [==============================] - 231s 1s/step - loss: 4.3012e-04 - accuracy: 0.9999 - val_loss: 0.0106 - val_accuracy: 0.9978\n",
            "Epoch 6/25\n",
            "226/226 [==============================] - 230s 1s/step - loss: 3.5542e-05 - accuracy: 1.0000 - val_loss: 0.0106 - val_accuracy: 0.9978\n",
            "Epoch 7/25\n",
            "226/226 [==============================] - 229s 1s/step - loss: 0.0049 - accuracy: 0.9982 - val_loss: 0.0516 - val_accuracy: 0.9917\n",
            "Epoch 8/25\n",
            "226/226 [==============================] - 230s 1s/step - loss: 0.0298 - accuracy: 0.9935 - val_loss: 0.0250 - val_accuracy: 0.9928\n",
            "Epoch 9/25\n",
            "226/226 [==============================] - 231s 1s/step - loss: 0.0042 - accuracy: 0.9985 - val_loss: 0.0122 - val_accuracy: 0.9967\n",
            "Epoch 10/25\n",
            "226/226 [==============================] - 231s 1s/step - loss: 4.0201e-04 - accuracy: 1.0000 - val_loss: 0.0150 - val_accuracy: 0.9967\n",
            "Epoch 11/25\n",
            "226/226 [==============================] - 230s 1s/step - loss: 0.0021 - accuracy: 0.9993 - val_loss: 0.1409 - val_accuracy: 0.9718\n",
            "Epoch 12/25\n",
            "226/226 [==============================] - 232s 1s/step - loss: 0.0116 - accuracy: 0.9975 - val_loss: 0.0786 - val_accuracy: 0.9884\n",
            "Epoch 13/25\n",
            "226/226 [==============================] - 233s 1s/step - loss: 0.0162 - accuracy: 0.9956 - val_loss: 0.0128 - val_accuracy: 0.9956\n",
            "Epoch 14/25\n",
            "226/226 [==============================] - 239s 1s/step - loss: 3.3881e-04 - accuracy: 1.0000 - val_loss: 0.0058 - val_accuracy: 0.9989\n",
            "Epoch 15/25\n",
            "226/226 [==============================] - 232s 1s/step - loss: 0.0040 - accuracy: 0.9992 - val_loss: 0.0125 - val_accuracy: 0.9972\n",
            "Epoch 16/25\n",
            "226/226 [==============================] - 233s 1s/step - loss: 1.2751e-04 - accuracy: 1.0000 - val_loss: 0.0132 - val_accuracy: 0.9972\n",
            "Epoch 17/25\n",
            "226/226 [==============================] - 234s 1s/step - loss: 0.0026 - accuracy: 0.9990 - val_loss: 0.0166 - val_accuracy: 0.9967\n",
            "Epoch 18/25\n",
            "226/226 [==============================] - 231s 1s/step - loss: 0.0058 - accuracy: 0.9979 - val_loss: 0.0130 - val_accuracy: 0.9972\n",
            "Epoch 19/25\n",
            "226/226 [==============================] - 232s 1s/step - loss: 0.0108 - accuracy: 0.9971 - val_loss: 0.0194 - val_accuracy: 0.9956\n",
            "Epoch 20/25\n",
            "226/226 [==============================] - 232s 1s/step - loss: 0.0065 - accuracy: 0.9978 - val_loss: 0.0118 - val_accuracy: 0.9972\n",
            "Epoch 21/25\n",
            "226/226 [==============================] - 233s 1s/step - loss: 0.0050 - accuracy: 0.9988 - val_loss: 0.0283 - val_accuracy: 0.9950\n",
            "Epoch 22/25\n",
            "226/226 [==============================] - 229s 1s/step - loss: 0.0029 - accuracy: 0.9989 - val_loss: 0.0124 - val_accuracy: 0.9967\n",
            "Epoch 23/25\n",
            "226/226 [==============================] - 232s 1s/step - loss: 1.4268e-04 - accuracy: 1.0000 - val_loss: 0.0078 - val_accuracy: 0.9972\n",
            "Epoch 24/25\n",
            "226/226 [==============================] - 232s 1s/step - loss: 0.0010 - accuracy: 0.9996 - val_loss: 0.0071 - val_accuracy: 0.9983\n",
            "Epoch 25/25\n",
            "226/226 [==============================] - 232s 1s/step - loss: 3.6816e-04 - accuracy: 0.9999 - val_loss: 0.0063 - val_accuracy: 0.9978\n"
          ]
        },
        {
          "output_type": "display_data",
          "data": {
            "text/plain": [
              "<Figure size 432x288 with 1 Axes>"
            ],
            "image/png": "[encoded data removed]"
          },
          "metadata": {
            "needs_background": "light"
          }
        }
      ]
    },
    {
      "cell_type": "markdown",
      "source": [
        "Convolutional Neural Network Confusion Matrix"
      ],
      "metadata": {
        "id": "0-Qb1lN1A0C5"
      }
    },
    {
      "cell_type": "code",
      "source": [
        "#Loads model's predictions into a y_pred array\n",
        "y_pred = cnn_model.predict(x_test)\n",
        "\n",
        "#Reformatting values to work for confusion matrix\n",
        "y_pred = np.argmax(y_pred, axis=1)\n",
        "y_true = np.argmax(y_test, axis=1)\n",
        "\n",
        "#Unrefined Confusion Matrix\n",
        "cm = confusion_matrix(y_true, y_pred)\n",
        "print(cm)"
      ],
      "metadata": {
        "id": "11-FOsy_AzuS",
        "colab": {
          "base_uri": "https://localhost:8080/"
        },
        "outputId": "51cc5202-53f7-48e1-90af-21deafe14e41"
      },
      "execution_count": 77,
      "outputs": [
        {
          "output_type": "stream",
          "name": "stdout",
          "text": [
            "[[512   0   0   0]\n",
            " [  0 466   0   0]\n",
            " [  2   1 381   0]\n",
            " [  1   0   0 445]]\n"
          ]
        }
      ]
    }
  ],
  "metadata": {
    "colab": {
      "collapsed_sections": [],
      "name": "Distracted_Driver_Detection.ipynb",
      "provenance": [],
      "include_colab_link": true
    },
    "kernelspec": {
      "display_name": "Python 3",
      "name": "python3"
    },
    "language_info": {
      "name": "python"
    }
  },
  "nbformat": 4,
  "nbformat_minor": 0
}